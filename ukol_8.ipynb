{
 "cells": [
  {
   "cell_type": "code",
   "execution_count": 23,
   "metadata": {},
   "outputs": [],
   "source": [
    "import pandas"
   ]
  },
  {
   "cell_type": "code",
   "execution_count": 24,
   "metadata": {},
   "outputs": [
    {
     "name": "stdout",
     "output_type": "stream",
     "text": [
      "       id             nazev_cz                     nazev_en       trida_cz  \\\n",
      "0       7          Šváb syčivý  Madagascar giant cockroach      Bezobratlí   \n",
      "1       8  Pakobylka okřídlená     Pink-winged stick insect     Bezobratlí   \n",
      "2      16                Tayra                        Tayra          Savci   \n",
      "3      35        Kajmanka supí    Alligator snapping turtle          Plazi   \n",
      "4      37      Želva žlutočelá       Indochinese box turtle          Plazi   \n",
      "..    ...                  ...                          ...            ...   \n",
      "508  1417  Rosnice šalamounská                               Obojživelníci   \n",
      "509  1418       Létavka obecná                               Obojživelníci   \n",
      "510  1419          Bažant paví                                       Ptáci   \n",
      "511  1420  Sojkovec rezavouchý                                       Ptáci   \n",
      "512  1421   Kachnice kaštanová                                       Ptáci   \n",
      "\n",
      "     cena  k_prohlidce  \n",
      "0    1000            1  \n",
      "1    1000            1  \n",
      "2    5000            1  \n",
      "3    2000            1  \n",
      "4    1000            1  \n",
      "..    ...          ...  \n",
      "508  1000            1  \n",
      "509  1000            1  \n",
      "510  1000            1  \n",
      "511  1000            1  \n",
      "512  1000            1  \n",
      "\n",
      "[513 rows x 6 columns]\n"
     ]
    }
   ],
   "source": [
    "adopce_zvirat = pandas.read_csv(\"adopce-zvirat.txt\", sep=\";\")\n",
    "print(adopce_zvirat)"
   ]
  },
  {
   "cell_type": "code",
   "execution_count": 25,
   "metadata": {},
   "outputs": [
    {
     "data": {
      "text/plain": [
       "(513, 6)"
      ]
     },
     "execution_count": 25,
     "metadata": {},
     "output_type": "execute_result"
    }
   ],
   "source": [
    "adopce_zvirat.shape"
   ]
  },
  {
   "cell_type": "code",
   "execution_count": 26,
   "metadata": {},
   "outputs": [
    {
     "data": {
      "text/plain": [
       "Index(['id', 'nazev_cz', 'nazev_en', 'trida_cz', 'cena', 'k_prohlidce'], dtype='object')"
      ]
     },
     "execution_count": 26,
     "metadata": {},
     "output_type": "execute_result"
    }
   ],
   "source": [
    "adopce_zvirat.columns"
   ]
  },
  {
   "cell_type": "code",
   "execution_count": 29,
   "metadata": {},
   "outputs": [
    {
     "data": {
      "text/plain": [
       "'Ibis bílý'"
      ]
     },
     "execution_count": 29,
     "metadata": {},
     "output_type": "execute_result"
    }
   ],
   "source": [
    "adopce_zvirat.iloc[34][\"nazev_cz\"]"
   ]
  },
  {
   "cell_type": "code",
   "execution_count": 30,
   "metadata": {},
   "outputs": [
    {
     "data": {
      "text/plain": [
       "'White ibis'"
      ]
     },
     "execution_count": 30,
     "metadata": {},
     "output_type": "execute_result"
    }
   ],
   "source": [
    "adopce_zvirat.iloc[34][\"nazev_en\"]"
   ]
  }
 ],
 "metadata": {
  "kernelspec": {
   "display_name": "Python 3",
   "language": "python",
   "name": "python3"
  },
  "language_info": {
   "codemirror_mode": {
    "name": "ipython",
    "version": 3
   },
   "file_extension": ".py",
   "mimetype": "text/x-python",
   "name": "python",
   "nbconvert_exporter": "python",
   "pygments_lexer": "ipython3",
   "version": "3.10.6"
  },
  "orig_nbformat": 4
 },
 "nbformat": 4,
 "nbformat_minor": 2
}
